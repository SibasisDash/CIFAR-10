{
  "nbformat": 4,
  "nbformat_minor": 0,
  "metadata": {
    "colab": {
      "name": "CIFAR_10_Final_colab.ipynb",
      "provenance": [],
      "include_colab_link": true
    },
    "language_info": {
      "codemirror_mode": {
        "name": "ipython",
        "version": 3
      },
      "file_extension": ".py",
      "mimetype": "text/x-python",
      "name": "python",
      "nbconvert_exporter": "python",
      "pygments_lexer": "ipython3",
      "version": "3.6.8"
    },
    "kernelspec": {
      "name": "python3",
      "display_name": "Python 3"
    },
    "accelerator": "GPU"
  },
  "cells": [
    {
      "cell_type": "markdown",
      "metadata": {
        "id": "view-in-github",
        "colab_type": "text"
      },
      "source": [
        "<a href=\"https://colab.research.google.com/github/SibasisDash/CIFAR-10/blob/master/CIFAR_10_Final_colab.ipynb\" target=\"_parent\"><img src=\"https://colab.research.google.com/assets/colab-badge.svg\" alt=\"Open In Colab\"/></a>"
      ]
    },
    {
      "cell_type": "markdown",
      "metadata": {
        "colab_type": "text",
        "deletable": true,
        "editable": true,
        "id": "zW3g_3_8yL9Y"
      },
      "source": [
        "# CIFAR-10 - Keras"
      ]
    },
    {
      "cell_type": "markdown",
      "metadata": {
        "colab_type": "text",
        "deletable": true,
        "editable": true,
        "id": "0PsyQ9GByL9a"
      },
      "source": [
        "In the excersises below, we will model a classification task with the [CIFAR10](https://www.cs.toronto.edu/~kriz/cifar.html) dataset using [Keras](https://keras.io/).\n",
        "\n",
        "We will start out with a simle solution and progressively improve upon it."
      ]
    },
    {
      "cell_type": "markdown",
      "metadata": {
        "colab_type": "text",
        "deletable": true,
        "editable": true,
        "id": "RdMc5c0dyL9b"
      },
      "source": [
        "## 1. Loading the dataset"
      ]
    },
    {
      "cell_type": "code",
      "metadata": {
        "colab_type": "code",
        "id": "qgCwqQ1SzOnF",
        "colab": {
          "base_uri": "https://localhost:8080/",
          "height": 64
        },
        "outputId": "ba04dead-7f9c-4acd-e926-74a76a2fb0ce"
      },
      "source": [
        "import tensorflow as tf\n"
      ],
      "execution_count": 1,
      "outputs": [
        {
          "output_type": "display_data",
          "data": {
            "text/html": [
              "<p style=\"color: red;\">\n",
              "The default version of TensorFlow in Colab will soon switch to TensorFlow 2.x.<br>\n",
              "We recommend you <a href=\"https://www.tensorflow.org/guide/migrate\" target=\"_blank\">upgrade</a> now \n",
              "or ensure your notebook will continue to use TensorFlow 1.x via the <code>%tensorflow_version 1.x</code> magic:\n",
              "<a href=\"https://colab.research.google.com/notebooks/tensorflow_version.ipynb\" target=\"_blank\">more info</a>.</p>\n"
            ],
            "text/plain": [
              "<IPython.core.display.HTML object>"
            ]
          },
          "metadata": {
            "tags": []
          }
        }
      ]
    },
    {
      "cell_type": "code",
      "metadata": {
        "id": "yNnAZd6zadw3",
        "colab_type": "code",
        "outputId": "510d7758-e57c-406b-9ca9-959ca2da4d49",
        "colab": {
          "base_uri": "https://localhost:8080/",
          "height": 35
        }
      },
      "source": [
        "import numpy as np\n",
        "from keras.layers import Conv2D, MaxPooling2D\n",
        "from keras.models import Sequential\n",
        "from keras.layers import Dense, Activation\n",
        "from keras.optimizers import SGD\n",
        "from keras.layers import Dense, Dropout, Flatten\n",
        "from keras.layers.normalization import BatchNormalization\n",
        "from keras.preprocessing.image import ImageDataGenerator\n",
        "from keras.optimizers import Adam\n",
        "import matplotlib.pyplot as plt\n"
      ],
      "execution_count": 2,
      "outputs": [
        {
          "output_type": "stream",
          "text": [
            "Using TensorFlow backend.\n"
          ],
          "name": "stderr"
        }
      ]
    },
    {
      "cell_type": "code",
      "metadata": {
        "id": "BUh9_wkpadw9",
        "colab_type": "code",
        "outputId": "1af9cf5b-5996-425d-f168-f10082864849",
        "colab": {
          "base_uri": "https://localhost:8080/",
          "height": 52
        }
      },
      "source": [
        "from keras.datasets import cifar10\n",
        "from keras.utils.np_utils import to_categorical   \n",
        "\n",
        "\n",
        "(X_train, y_train), (X_test, y_test) = cifar10.load_data()"
      ],
      "execution_count": 3,
      "outputs": [
        {
          "output_type": "stream",
          "text": [
            "Downloading data from https://www.cs.toronto.edu/~kriz/cifar-10-python.tar.gz\n",
            "170500096/170498071 [==============================] - 4s 0us/step\n"
          ],
          "name": "stdout"
        }
      ]
    },
    {
      "cell_type": "code",
      "metadata": {
        "colab_type": "code",
        "id": "os43mUXMzOrj",
        "outputId": "ea44dc41-0cec-476a-bbb0-3ed1d5bed271",
        "colab": {
          "base_uri": "https://localhost:8080/",
          "height": 121
        }
      },
      "source": [
        "print(\"Shape of training data:\")\n",
        "print(X_train.shape)\n",
        "print(y_train.shape)\n",
        "print(\"Shape of test data:\")\n",
        "print(X_test.shape)\n",
        "print(y_test.shape)"
      ],
      "execution_count": 4,
      "outputs": [
        {
          "output_type": "stream",
          "text": [
            "Shape of training data:\n",
            "(50000, 32, 32, 3)\n",
            "(50000, 1)\n",
            "Shape of test data:\n",
            "(10000, 32, 32, 3)\n",
            "(10000, 1)\n"
          ],
          "name": "stdout"
        }
      ]
    },
    {
      "cell_type": "code",
      "metadata": {
        "colab_type": "code",
        "id": "Ove77qbGzOux",
        "outputId": "d9e09325-342b-4d21-dbee-ce345a543502",
        "colab": {
          "base_uri": "https://localhost:8080/",
          "height": 238
        }
      },
      "source": [
        "\n",
        "\n",
        "cifar_classes = ['airplane', 'automobile', 'bird', 'cat', 'deer', 'dog', 'frog', 'horse', 'ship', 'truck']\n",
        "print('Five training images and their labels: ' + str([x[0] for x in y_train[0:5]])) \n",
        "print('Corresponding classes for the labels: ' + str([cifar_classes[x[0]] for x in y_train[0:5]]))\n",
        "\n",
        "f, axarr = plt.subplots(1, 5)\n",
        "f.set_size_inches(16, 6)\n",
        "\n",
        "for i in range(5):\n",
        "    img = X_train[i]\n",
        "    axarr[i].imshow(img)\n",
        "plt.show()"
      ],
      "execution_count": 5,
      "outputs": [
        {
          "output_type": "stream",
          "text": [
            "Five training images and their labels: [6, 9, 9, 4, 1]\n",
            "Corresponding classes for the labels: ['frog', 'truck', 'truck', 'deer', 'automobile']\n"
          ],
          "name": "stdout"
        },
        {
          "output_type": "display_data",
          "data": {
            "image/png": "[encoded data removed]",
            "text/plain": [
              "<Figure size 1152x432 with 5 Axes>"
            ]
          },
          "metadata": {
            "tags": []
          }
        }
      ]
    },
    {
      "cell_type": "markdown",
      "metadata": {
        "colab_type": "text",
        "deletable": true,
        "editable": true,
        "id": "a5Vtom8DyL-T"
      },
      "source": [
        "## 2. CNN classifier"
      ]
    },
    {
      "cell_type": "markdown",
      "metadata": {
        "colab_type": "text",
        "deletable": true,
        "editable": true,
        "id": "I_2FHLxeyL-V"
      },
      "source": [
        "#### Preparing the dataset"
      ]
    },
    {
      "cell_type": "code",
      "metadata": {
        "colab_type": "code",
        "deletable": true,
        "editable": true,
        "id": "5QjB8X_ayL-W",
        "colab": {}
      },
      "source": [
        "(X_train, y_train), (X_test, y_test) = cifar10.load_data()\n",
        "y_train = to_categorical(y_train, num_classes=10)\n",
        "y_test = to_categorical(y_test, num_classes=10)\n",
        "X_train = X_train.astype('float32')\n",
        "X_test = X_test.astype('float32')\n",
        "X_train /= 255\n",
        "X_test /= 255"
      ],
      "execution_count": 0,
      "outputs": []
    },
    {
      "cell_type": "code",
      "metadata": {
        "colab_type": "code",
        "deletable": true,
        "editable": true,
        "id": "cTuM-KZTyL-Y",
        "outputId": "d4ae3180-ac4a-4aed-f01b-2ef702de06ee",
        "colab": {
          "base_uri": "https://localhost:8080/",
          "height": 121
        }
      },
      "source": [
        "print(\"Shape of training data:\")\n",
        "print(X_train.shape)\n",
        "print(y_train.shape)\n",
        "print(\"Shape of test data:\")\n",
        "print(X_test.shape)\n",
        "print(y_test.shape)"
      ],
      "execution_count": 7,
      "outputs": [
        {
          "output_type": "stream",
          "text": [
            "Shape of training data:\n",
            "(50000, 32, 32, 3)\n",
            "(50000, 10)\n",
            "Shape of test data:\n",
            "(10000, 32, 32, 3)\n",
            "(10000, 10)\n"
          ],
          "name": "stdout"
        }
      ]
    },
    {
      "cell_type": "markdown",
      "metadata": {
        "colab_type": "text",
        "deletable": true,
        "editable": true,
        "id": "GLJQcYvIyL-k"
      },
      "source": [
        "#### Creating CNN model"
      ]
    },
    {
      "cell_type": "markdown",
      "metadata": {
        "colab_type": "text",
        "deletable": true,
        "editable": true,
        "id": "135rDys9yL-n"
      },
      "source": [
        "We will use two convolutional layers, each with 32 filters a kernel size of (3,3) and ReLU activation function."
      ]
    },
    {
      "cell_type": "code",
      "metadata": {
        "colab_type": "code",
        "deletable": true,
        "editable": true,
        "id": "wkOOO7jyyL-o",
        "outputId": "fc53117a-d046-4757-b908-dcb046623e13",
        "colab": {
          "base_uri": "https://localhost:8080/",
          "height": 245
        }
      },
      "source": [
        "\n",
        "\n",
        "model = Sequential()\n",
        "\n",
        "model.add(Conv2D(32, (3, 3), activation='relu', input_shape=(32, 32, 3)))\n",
        "model.add(Conv2D(32, (3, 3), activation='relu'))\n",
        "model.add(MaxPooling2D(pool_size=(2, 2)))\n",
        "\n",
        "model.add(Flatten())\n",
        "model.add(Dense(256, activation='relu'))\n",
        "model.add(Dense(10, activation='softmax'))\n",
        "\n",
        "sgd = SGD(lr=0.01, decay=1e-6, momentum=0.9, nesterov=True)\n",
        "model.compile(loss='categorical_crossentropy', metrics=['accuracy'], optimizer=sgd)"
      ],
      "execution_count": 8,
      "outputs": [
        {
          "output_type": "stream",
          "text": [
            "WARNING:tensorflow:From /usr/local/lib/python3.6/dist-packages/keras/backend/tensorflow_backend.py:66: The name tf.get_default_graph is deprecated. Please use tf.compat.v1.get_default_graph instead.\n",
            "\n",
            "WARNING:tensorflow:From /usr/local/lib/python3.6/dist-packages/keras/backend/tensorflow_backend.py:541: The name tf.placeholder is deprecated. Please use tf.compat.v1.placeholder instead.\n",
            "\n",
            "WARNING:tensorflow:From /usr/local/lib/python3.6/dist-packages/keras/backend/tensorflow_backend.py:4432: The name tf.random_uniform is deprecated. Please use tf.random.uniform instead.\n",
            "\n",
            "WARNING:tensorflow:From /usr/local/lib/python3.6/dist-packages/keras/backend/tensorflow_backend.py:4267: The name tf.nn.max_pool is deprecated. Please use tf.nn.max_pool2d instead.\n",
            "\n",
            "WARNING:tensorflow:From /usr/local/lib/python3.6/dist-packages/keras/optimizers.py:793: The name tf.train.Optimizer is deprecated. Please use tf.compat.v1.train.Optimizer instead.\n",
            "\n",
            "WARNING:tensorflow:From /usr/local/lib/python3.6/dist-packages/keras/backend/tensorflow_backend.py:3576: The name tf.log is deprecated. Please use tf.math.log instead.\n",
            "\n"
          ],
          "name": "stdout"
        }
      ]
    },
    {
      "cell_type": "markdown",
      "metadata": {
        "colab_type": "text",
        "deletable": true,
        "editable": true,
        "id": "hMGJh3mEyL-s"
      },
      "source": [
        "#### Training the CNN"
      ]
    },
    {
      "cell_type": "code",
      "metadata": {
        "colab_type": "code",
        "deletable": true,
        "editable": true,
        "id": "yNfrWVrJyL-s",
        "outputId": "2cb2c2be-daa1-49f9-8043-b97e154c7d7c",
        "colab": {
          "base_uri": "https://localhost:8080/",
          "height": 0
        }
      },
      "source": [
        "history = model.fit(X_train, y_train, batch_size=32, epochs=15, verbose=2, validation_split=0.2)"
      ],
      "execution_count": 9,
      "outputs": [
        {
          "output_type": "stream",
          "text": [
            "WARNING:tensorflow:From /usr/local/lib/python3.6/dist-packages/tensorflow_core/python/ops/math_grad.py:1424: where (from tensorflow.python.ops.array_ops) is deprecated and will be removed in a future version.\n",
            "Instructions for updating:\n",
            "Use tf.where in 2.0, which has the same broadcast rule as np.where\n",
            "WARNING:tensorflow:From /usr/local/lib/python3.6/dist-packages/keras/backend/tensorflow_backend.py:1033: The name tf.assign_add is deprecated. Please use tf.compat.v1.assign_add instead.\n",
            "\n",
            "WARNING:tensorflow:From /usr/local/lib/python3.6/dist-packages/keras/backend/tensorflow_backend.py:1020: The name tf.assign is deprecated. Please use tf.compat.v1.assign instead.\n",
            "\n",
            "WARNING:tensorflow:From /usr/local/lib/python3.6/dist-packages/keras/backend/tensorflow_backend.py:3005: The name tf.Session is deprecated. Please use tf.compat.v1.Session instead.\n",
            "\n",
            "Train on 40000 samples, validate on 10000 samples\n",
            "Epoch 1/15\n",
            "WARNING:tensorflow:From /usr/local/lib/python3.6/dist-packages/keras/backend/tensorflow_backend.py:190: The name tf.get_default_session is deprecated. Please use tf.compat.v1.get_default_session instead.\n",
            "\n",
            "WARNING:tensorflow:From /usr/local/lib/python3.6/dist-packages/keras/backend/tensorflow_backend.py:197: The name tf.ConfigProto is deprecated. Please use tf.compat.v1.ConfigProto instead.\n",
            "\n",
            "WARNING:tensorflow:From /usr/local/lib/python3.6/dist-packages/keras/backend/tensorflow_backend.py:207: The name tf.global_variables is deprecated. Please use tf.compat.v1.global_variables instead.\n",
            "\n",
            "WARNING:tensorflow:From /usr/local/lib/python3.6/dist-packages/keras/backend/tensorflow_backend.py:216: The name tf.is_variable_initialized is deprecated. Please use tf.compat.v1.is_variable_initialized instead.\n",
            "\n",
            "WARNING:tensorflow:From /usr/local/lib/python3.6/dist-packages/keras/backend/tensorflow_backend.py:223: The name tf.variables_initializer is deprecated. Please use tf.compat.v1.variables_initializer instead.\n",
            "\n",
            " - 20s - loss: 1.5573 - acc: 0.4401 - val_loss: 1.2465 - val_acc: 0.5538\n",
            "Epoch 2/15\n",
            " - 6s - loss: 1.1154 - acc: 0.6040 - val_loss: 1.0862 - val_acc: 0.6152\n",
            "Epoch 3/15\n",
            " - 6s - loss: 0.8817 - acc: 0.6904 - val_loss: 1.0105 - val_acc: 0.6533\n",
            "Epoch 4/15\n",
            " - 6s - loss: 0.6814 - acc: 0.7595 - val_loss: 1.0456 - val_acc: 0.6592\n",
            "Epoch 5/15\n",
            " - 6s - loss: 0.4864 - acc: 0.8291 - val_loss: 1.1828 - val_acc: 0.6557\n",
            "Epoch 6/15\n",
            " - 6s - loss: 0.3204 - acc: 0.8870 - val_loss: 1.3456 - val_acc: 0.6423\n",
            "Epoch 7/15\n",
            " - 6s - loss: 0.2067 - acc: 0.9286 - val_loss: 1.5425 - val_acc: 0.6519\n",
            "Epoch 8/15\n",
            " - 6s - loss: 0.1600 - acc: 0.9447 - val_loss: 1.7796 - val_acc: 0.6320\n",
            "Epoch 9/15\n",
            " - 6s - loss: 0.1261 - acc: 0.9569 - val_loss: 1.8433 - val_acc: 0.6443\n",
            "Epoch 10/15\n",
            " - 6s - loss: 0.1018 - acc: 0.9663 - val_loss: 2.1007 - val_acc: 0.6432\n",
            "Epoch 11/15\n",
            " - 6s - loss: 0.0984 - acc: 0.9667 - val_loss: 2.1239 - val_acc: 0.6418\n",
            "Epoch 12/15\n",
            " - 6s - loss: 0.0940 - acc: 0.9693 - val_loss: 2.3313 - val_acc: 0.6378\n",
            "Epoch 13/15\n",
            " - 6s - loss: 0.0756 - acc: 0.9745 - val_loss: 2.4083 - val_acc: 0.6416\n",
            "Epoch 14/15\n",
            " - 6s - loss: 0.0814 - acc: 0.9729 - val_loss: 2.3673 - val_acc: 0.6470\n",
            "Epoch 15/15\n",
            " - 6s - loss: 0.0716 - acc: 0.9770 - val_loss: 2.4516 - val_acc: 0.6457\n"
          ],
          "name": "stdout"
        }
      ]
    },
    {
      "cell_type": "code",
      "metadata": {
        "colab_type": "code",
        "id": "2llfOpD6EPQf",
        "colab": {}
      },
      "source": [
        "def plotLosses(history):  \n",
        "    plt.plot(history.history['loss'])\n",
        "    plt.plot(history.history['val_loss'])\n",
        "    plt.title('model loss')\n",
        "    plt.ylabel('loss')\n",
        "    plt.xlabel('epoch')\n",
        "    plt.legend(['train', 'validation'], loc='upper left')\n",
        "    plt.show()"
      ],
      "execution_count": 0,
      "outputs": []
    },
    {
      "cell_type": "code",
      "metadata": {
        "colab_type": "code",
        "deletable": true,
        "editable": true,
        "id": "GdyTdcPHyL-v",
        "outputId": "ee4d62d7-43ac-4268-8310-ed72949cbd87",
        "colab": {
          "base_uri": "https://localhost:8080/",
          "height": 0
        }
      },
      "source": [
        "plotLosses(history)"
      ],
      "execution_count": 11,
      "outputs": [
        {
          "output_type": "display_data",
          "data": {
            "image/png": "[encoded data removed]",
            "text/plain": [
              "<Figure size 432x288 with 1 Axes>"
            ]
          },
          "metadata": {
            "tags": []
          }
        }
      ]
    },
    {
      "cell_type": "markdown",
      "metadata": {
        "colab_type": "text",
        "deletable": true,
        "editable": true,
        "id": "m164m-fHyL-y"
      },
      "source": [
        "#### Evaluating the CNN"
      ]
    },
    {
      "cell_type": "code",
      "metadata": {
        "colab_type": "code",
        "deletable": true,
        "editable": true,
        "id": "XFmYkZ5gyL-y",
        "colab": {}
      },
      "source": [
        "score = model.evaluate(X_test, y_test, batch_size=128, verbose=0)"
      ],
      "execution_count": 0,
      "outputs": []
    },
    {
      "cell_type": "code",
      "metadata": {
        "colab_type": "code",
        "deletable": true,
        "editable": true,
        "id": "gwtaecLByL-1",
        "outputId": "2745ad6a-889a-48d4-e948-09637f83aa90",
        "colab": {
          "base_uri": "https://localhost:8080/",
          "height": 0
        }
      },
      "source": [
        "print(model.metrics_names)\n",
        "print(score)"
      ],
      "execution_count": 13,
      "outputs": [
        {
          "output_type": "stream",
          "text": [
            "['loss', 'acc']\n",
            "[2.4288908721923828, 0.6421]\n"
          ],
          "name": "stdout"
        }
      ]
    },
    {
      "cell_type": "markdown",
      "metadata": {
        "colab_type": "text",
        "deletable": true,
        "editable": true,
        "id": "DP9-1Eo3yL-5"
      },
      "source": [
        "## 3. Regularization"
      ]
    },
    {
      "cell_type": "markdown",
      "metadata": {
        "colab_type": "text",
        "deletable": true,
        "editable": true,
        "id": "34Ca97z7yL-6"
      },
      "source": [
        "### 3.1 Dropout"
      ]
    },
    {
      "cell_type": "markdown",
      "metadata": {
        "colab_type": "text",
        "deletable": true,
        "editable": true,
        "id": "l11i1D6SyL-7"
      },
      "source": [
        "Dropout\n",
        "Dropout is a regularization technique patented by Google[1] for reducing overfitting in neural networks by preventing complex co-adaptations on training data. It is a very efficient way of performing model averaging with neural networks.[2] The term \"dropout\" refers to dropping out units (both hidden and visible) in a neural network.[3][4]"
      ]
    },
    {
      "cell_type": "markdown",
      "metadata": {
        "id": "x9V3bhnIadxu",
        "colab_type": "text"
      },
      "source": [
        "Dropout: <br>\n",
        "\n",
        "<img src=\"1.png\" width=\"500\">\n",
        "\n",
        "<br>"
      ]
    },
    {
      "cell_type": "code",
      "metadata": {
        "colab_type": "code",
        "id": "Jv2O6U49DmZs",
        "colab": {}
      },
      "source": [
        "\n",
        "\n",
        "\n"
      ],
      "execution_count": 0,
      "outputs": []
    },
    {
      "cell_type": "code",
      "metadata": {
        "colab_type": "code",
        "deletable": true,
        "editable": true,
        "id": "6VWtisO8yL-7",
        "outputId": "4e8951a0-ee4c-40eb-af4a-2e08619915ac",
        "colab": {
          "base_uri": "https://localhost:8080/",
          "height": 124
        }
      },
      "source": [
        "model = Sequential()\n",
        "\n",
        "model.add(Conv2D(32, (3, 3), activation='relu', input_shape=(32, 32, 3)))\n",
        "model.add(Conv2D(32, (3, 3), activation='relu'))\n",
        "model.add(MaxPooling2D(pool_size=(2, 2)))\n",
        "# Dropout layer added here\n",
        "model.add(Dropout(0.25))\n",
        "\n",
        "model.add(Flatten())\n",
        "model.add(Dense(256, activation='relu'))\n",
        "# Dropout layer added here\n",
        "model.add(Dropout(0.5))\n",
        "model.add(Dense(10, activation='softmax'))\n",
        "\n",
        "sgd = SGD(lr=0.01, decay=1e-6, momentum=0.9, nesterov=True)\n",
        "model.compile(loss='categorical_crossentropy', metrics=['accuracy'], optimizer=sgd)"
      ],
      "execution_count": 14,
      "outputs": [
        {
          "output_type": "stream",
          "text": [
            "WARNING:tensorflow:From /usr/local/lib/python3.6/dist-packages/keras/backend/tensorflow_backend.py:148: The name tf.placeholder_with_default is deprecated. Please use tf.compat.v1.placeholder_with_default instead.\n",
            "\n",
            "WARNING:tensorflow:From /usr/local/lib/python3.6/dist-packages/keras/backend/tensorflow_backend.py:3733: calling dropout (from tensorflow.python.ops.nn_ops) with keep_prob is deprecated and will be removed in a future version.\n",
            "Instructions for updating:\n",
            "Please use `rate` instead of `keep_prob`. Rate should be set to `rate = 1 - keep_prob`.\n"
          ],
          "name": "stdout"
        }
      ]
    },
    {
      "cell_type": "markdown",
      "metadata": {
        "colab_type": "text",
        "deletable": true,
        "editable": true,
        "id": "bEp58lUiyL--"
      },
      "source": [
        "#### Training the CNN which now contains dropout layers"
      ]
    },
    {
      "cell_type": "code",
      "metadata": {
        "colab_type": "code",
        "deletable": true,
        "editable": true,
        "id": "Yx-c1fJhyL-_",
        "outputId": "1d5693e3-a7ba-45c5-abfe-48305835c2c5",
        "colab": {
          "base_uri": "https://localhost:8080/",
          "height": 555
        }
      },
      "source": [
        "history = model.fit(X_train, y_train, batch_size=32, epochs=15, verbose=2, validation_split=0.2)"
      ],
      "execution_count": 15,
      "outputs": [
        {
          "output_type": "stream",
          "text": [
            "Train on 40000 samples, validate on 10000 samples\n",
            "Epoch 1/15\n",
            " - 6s - loss: 1.7019 - acc: 0.3771 - val_loss: 1.3901 - val_acc: 0.5016\n",
            "Epoch 2/15\n",
            " - 6s - loss: 1.3645 - acc: 0.5113 - val_loss: 1.1968 - val_acc: 0.5790\n",
            "Epoch 3/15\n",
            " - 6s - loss: 1.2113 - acc: 0.5664 - val_loss: 1.0985 - val_acc: 0.6131\n",
            "Epoch 4/15\n",
            " - 6s - loss: 1.0967 - acc: 0.6100 - val_loss: 1.0353 - val_acc: 0.6354\n",
            "Epoch 5/15\n",
            " - 6s - loss: 1.0145 - acc: 0.6404 - val_loss: 1.0414 - val_acc: 0.6370\n",
            "Epoch 6/15\n",
            " - 6s - loss: 0.9460 - acc: 0.6648 - val_loss: 1.0007 - val_acc: 0.6517\n",
            "Epoch 7/15\n",
            " - 6s - loss: 0.8837 - acc: 0.6884 - val_loss: 0.9988 - val_acc: 0.6569\n",
            "Epoch 8/15\n",
            " - 6s - loss: 0.8233 - acc: 0.7083 - val_loss: 0.9720 - val_acc: 0.6624\n",
            "Epoch 9/15\n",
            " - 6s - loss: 0.7833 - acc: 0.7226 - val_loss: 0.9826 - val_acc: 0.6705\n",
            "Epoch 10/15\n",
            " - 6s - loss: 0.7412 - acc: 0.7377 - val_loss: 0.9461 - val_acc: 0.6800\n",
            "Epoch 11/15\n",
            " - 6s - loss: 0.6968 - acc: 0.7542 - val_loss: 0.9947 - val_acc: 0.6698\n",
            "Epoch 12/15\n",
            " - 6s - loss: 0.6555 - acc: 0.7665 - val_loss: 1.0278 - val_acc: 0.6736\n",
            "Epoch 13/15\n",
            " - 6s - loss: 0.6411 - acc: 0.7744 - val_loss: 0.9905 - val_acc: 0.6776\n",
            "Epoch 14/15\n",
            " - 6s - loss: 0.6076 - acc: 0.7837 - val_loss: 1.0782 - val_acc: 0.6668\n",
            "Epoch 15/15\n",
            " - 6s - loss: 0.5802 - acc: 0.7977 - val_loss: 1.0554 - val_acc: 0.6633\n"
          ],
          "name": "stdout"
        }
      ]
    },
    {
      "cell_type": "code",
      "metadata": {
        "colab_type": "code",
        "id": "T6xOo5yE0XiW",
        "colab": {}
      },
      "source": [
        "def plotLosses(history):  \n",
        "    plt.plot(history.history['loss'])\n",
        "    plt.plot(history.history['val_loss'])\n",
        "    plt.title('model loss')\n",
        "    plt.ylabel('loss')\n",
        "    plt.xlabel('epoch')\n",
        "    plt.legend(['train', 'validation'], loc='upper left')\n",
        "    plt.show()"
      ],
      "execution_count": 0,
      "outputs": []
    },
    {
      "cell_type": "code",
      "metadata": {
        "colab_type": "code",
        "deletable": true,
        "editable": true,
        "id": "yUwmIdJnyL_B",
        "outputId": "114b290a-b1d3-45ba-f9b8-f4f32d052fba",
        "colab": {
          "base_uri": "https://localhost:8080/",
          "height": 295
        }
      },
      "source": [
        "plotLosses(history)"
      ],
      "execution_count": 17,
      "outputs": [
        {
          "output_type": "display_data",
          "data": {
            "image/png": "[encoded data removed]",
            "text/plain": [
              "<Figure size 432x288 with 1 Axes>"
            ]
          },
          "metadata": {
            "tags": []
          }
        }
      ]
    },
    {
      "cell_type": "markdown",
      "metadata": {
        "colab_type": "text",
        "deletable": true,
        "editable": true,
        "id": "wVHy1HUSyL_E"
      },
      "source": [
        "### 3.2 Batch normalization"
      ]
    },
    {
      "cell_type": "markdown",
      "metadata": {
        "colab_type": "text",
        "deletable": true,
        "editable": true,
        "id": "_R7FpoVEyL_E"
      },
      "source": [
        "Batch Normalization works by normalizing layer outputs to a running mean and variance. This speeds up training and improves the final performance of the model. The running statistics are fixed at test time.\n",
        "\n",
        "While batch normalization works as a regularizer, it also benefits smaller models."
      ]
    },
    {
      "cell_type": "code",
      "metadata": {
        "colab_type": "code",
        "deletable": true,
        "editable": true,
        "id": "igxXZ9CvyL_F",
        "colab": {
          "base_uri": "https://localhost:8080/",
          "height": 72
        },
        "outputId": "cd19c8e0-fbe7-4bb5-84ce-474324b86aa8"
      },
      "source": [
        "model = Sequential()\n",
        "\n",
        "model.add(Conv2D(32, (3, 3), activation='relu', input_shape=(32, 32, 3)))\n",
        "model.add(Conv2D(32, (3, 3)))\n",
        "# Batch normalization layer added here\n",
        "model.add(BatchNormalization())\n",
        "model.add(Activation('relu'))\n",
        "model.add(MaxPooling2D(pool_size=(2, 2)))\n",
        "model.add(Dropout(0.25))\n",
        "\n",
        "model.add(Flatten())\n",
        "model.add(Dense(256))\n",
        "# Batch normalization layer added here\n",
        "model.add(BatchNormalization())\n",
        "model.add(Activation('relu'))\n",
        "model.add(Dropout(0.5))\n",
        "model.add(Dense(10, activation='softmax'))\n",
        "\n",
        "sgd = SGD(lr=0.01, decay=1e-6, momentum=0.9, nesterov=True)\n",
        "model.compile(loss='categorical_crossentropy', metrics=['accuracy'], optimizer=sgd)"
      ],
      "execution_count": 18,
      "outputs": [
        {
          "output_type": "stream",
          "text": [
            "WARNING:tensorflow:From /usr/local/lib/python3.6/dist-packages/keras/backend/tensorflow_backend.py:2041: The name tf.nn.fused_batch_norm is deprecated. Please use tf.compat.v1.nn.fused_batch_norm instead.\n",
            "\n"
          ],
          "name": "stdout"
        }
      ]
    },
    {
      "cell_type": "code",
      "metadata": {
        "colab_type": "code",
        "deletable": true,
        "editable": true,
        "id": "F-EQyVg9yL_H",
        "outputId": "d9652a54-4bd3-4374-e316-7ccd05712790",
        "colab": {
          "base_uri": "https://localhost:8080/",
          "height": 555
        }
      },
      "source": [
        "history = model.fit(X_train, y_train, batch_size=32, epochs=15, verbose=2, validation_split=0.2)"
      ],
      "execution_count": 19,
      "outputs": [
        {
          "output_type": "stream",
          "text": [
            "Train on 40000 samples, validate on 10000 samples\n",
            "Epoch 1/15\n",
            " - 9s - loss: 1.5861 - acc: 0.4343 - val_loss: 1.3871 - val_acc: 0.4917\n",
            "Epoch 2/15\n",
            " - 8s - loss: 1.2216 - acc: 0.5655 - val_loss: 1.2299 - val_acc: 0.5681\n",
            "Epoch 3/15\n",
            " - 8s - loss: 1.0841 - acc: 0.6158 - val_loss: 0.9919 - val_acc: 0.6444\n",
            "Epoch 4/15\n",
            " - 8s - loss: 0.9986 - acc: 0.6453 - val_loss: 1.0361 - val_acc: 0.6311\n",
            "Epoch 5/15\n",
            " - 8s - loss: 0.9232 - acc: 0.6739 - val_loss: 0.9778 - val_acc: 0.6571\n",
            "Epoch 6/15\n",
            " - 8s - loss: 0.8758 - acc: 0.6902 - val_loss: 0.8956 - val_acc: 0.6881\n",
            "Epoch 7/15\n",
            " - 8s - loss: 0.8222 - acc: 0.7060 - val_loss: 1.0007 - val_acc: 0.6496\n",
            "Epoch 8/15\n",
            " - 8s - loss: 0.7835 - acc: 0.7228 - val_loss: 1.0340 - val_acc: 0.6428\n",
            "Epoch 9/15\n",
            " - 9s - loss: 0.7481 - acc: 0.7351 - val_loss: 0.8264 - val_acc: 0.7157\n",
            "Epoch 10/15\n",
            " - 8s - loss: 0.7032 - acc: 0.7472 - val_loss: 0.8999 - val_acc: 0.6971\n",
            "Epoch 11/15\n",
            " - 8s - loss: 0.6652 - acc: 0.7634 - val_loss: 0.8426 - val_acc: 0.7075\n",
            "Epoch 12/15\n",
            " - 8s - loss: 0.6428 - acc: 0.7745 - val_loss: 0.8345 - val_acc: 0.7197\n",
            "Epoch 13/15\n",
            " - 8s - loss: 0.6096 - acc: 0.7821 - val_loss: 0.8332 - val_acc: 0.7180\n",
            "Epoch 14/15\n",
            " - 8s - loss: 0.5883 - acc: 0.7906 - val_loss: 0.9468 - val_acc: 0.6858\n",
            "Epoch 15/15\n",
            " - 8s - loss: 0.5505 - acc: 0.8050 - val_loss: 0.8750 - val_acc: 0.7095\n"
          ],
          "name": "stdout"
        }
      ]
    },
    {
      "cell_type": "code",
      "metadata": {
        "colab_type": "code",
        "deletable": true,
        "editable": true,
        "id": "M2TubmtnyL_K",
        "outputId": "991f3518-3747-4851-cf17-597be5d194af",
        "colab": {
          "base_uri": "https://localhost:8080/",
          "height": 295
        }
      },
      "source": [
        "plotLosses(history)"
      ],
      "execution_count": 20,
      "outputs": [
        {
          "output_type": "display_data",
          "data": {
            "image/png": "[encoded data removed]",
            "text/plain": [
              "<Figure size 432x288 with 1 Axes>"
            ]
          },
          "metadata": {
            "tags": []
          }
        }
      ]
    },
    {
      "cell_type": "markdown",
      "metadata": {
        "colab_type": "text",
        "deletable": true,
        "editable": true,
        "id": "qThnWukHyL_P"
      },
      "source": [
        "#### Evaluating the CNN (with dropout and batch normalization)"
      ]
    },
    {
      "cell_type": "code",
      "metadata": {
        "colab_type": "code",
        "deletable": true,
        "editable": true,
        "id": "skjSw7vfyL_Q",
        "colab": {}
      },
      "source": [
        "score = model.evaluate(X_test, y_test, batch_size=128, verbose=0)"
      ],
      "execution_count": 0,
      "outputs": []
    },
    {
      "cell_type": "code",
      "metadata": {
        "colab_type": "code",
        "deletable": true,
        "editable": true,
        "id": "SYcdXagdyL_T",
        "outputId": "30dac3a1-0e4f-4b84-9b6c-a64f251a80ef",
        "colab": {
          "base_uri": "https://localhost:8080/",
          "height": 52
        }
      },
      "source": [
        "print(model.metrics_names)\n",
        "print(score)"
      ],
      "execution_count": 22,
      "outputs": [
        {
          "output_type": "stream",
          "text": [
            "['loss', 'acc']\n",
            "[0.8685601585388184, 0.7033]\n"
          ],
          "name": "stdout"
        }
      ]
    },
    {
      "cell_type": "markdown",
      "metadata": {
        "colab_type": "text",
        "deletable": true,
        "editable": true,
        "id": "AlNP-wV9yL_V"
      },
      "source": [
        "### 3.3 Data Augmentation"
      ]
    },
    {
      "cell_type": "code",
      "metadata": {
        "colab_type": "code",
        "id": "wNdhxF97GefD",
        "colab": {}
      },
      "source": [
        ""
      ],
      "execution_count": 0,
      "outputs": []
    },
    {
      "cell_type": "code",
      "metadata": {
        "colab_type": "code",
        "deletable": true,
        "editable": true,
        "id": "qo4o8_-iyL_W",
        "colab": {}
      },
      "source": [
        "train_datagen = ImageDataGenerator(\n",
        "        width_shift_range=0.1,  # randomly shift images horizontally (fraction of total width)\n",
        "        height_shift_range=0.1,  # randomly shift images vertically (fraction of total height)\n",
        "        horizontal_flip=True)   # flip images horizontally\n",
        "\n",
        "validation_datagen = ImageDataGenerator()\n",
        "\n",
        "train_generator = train_datagen.flow(X_train[:40000], y_train[:40000], batch_size=32)\n",
        "validation_generator = validation_datagen.flow(X_train[40000:], y_train[40000:], batch_size=32)"
      ],
      "execution_count": 0,
      "outputs": []
    },
    {
      "cell_type": "code",
      "metadata": {
        "colab_type": "code",
        "deletable": true,
        "editable": true,
        "id": "BDf9o93eyL_a",
        "colab": {}
      },
      "source": [
        "model = Sequential()\n",
        "\n",
        "model.add(Conv2D(32, (3, 3), activation='relu', input_shape=(32, 32, 3)))\n",
        "model.add(Conv2D(32, (3, 3)))\n",
        "# Batch normalization layer added here\n",
        "model.add(BatchNormalization())\n",
        "model.add(Activation('relu'))\n",
        "model.add(MaxPooling2D(pool_size=(2, 2)))\n",
        "model.add(Dropout(0.25))\n",
        "\n",
        "model.add(Flatten())\n",
        "model.add(Dense(256))\n",
        "# Batch normalization layer added here\n",
        "model.add(BatchNormalization())\n",
        "model.add(Activation('relu'))\n",
        "model.add(Dropout(0.5))\n",
        "model.add(Dense(10, activation='softmax'))\n",
        "\n",
        "adam = Adam(lr=0.0006, beta_1=0.9, beta_2=0.999, decay=0.0)\n",
        "\n",
        "model.compile(loss='categorical_crossentropy', metrics=['accuracy'], optimizer=adam)"
      ],
      "execution_count": 0,
      "outputs": []
    },
    {
      "cell_type": "code",
      "metadata": {
        "colab_type": "code",
        "deletable": true,
        "editable": true,
        "id": "iOfdF4zUyL_b",
        "outputId": "c8c4b12a-3adb-4372-e3c5-b04ea93f439e",
        "colab": {
          "base_uri": "https://localhost:8080/",
          "height": 1000
        }
      },
      "source": [
        "# fits the model on batches with real-time data augmentation:\n",
        "history = model.fit_generator(train_generator,    \n",
        "                    validation_data=validation_generator,\n",
        "                    validation_steps=len(X_train[40000:]) / 32,\n",
        "                    steps_per_epoch=len(X_train[:40000]) / 32,\n",
        "                    epochs=150,\n",
        "                    verbose=2)"
      ],
      "execution_count": 25,
      "outputs": [
        {
          "output_type": "stream",
          "text": [
            "Epoch 1/150\n",
            " - 21s - loss: 1.6247 - acc: 0.4301 - val_loss: 1.3073 - val_acc: 0.5328\n",
            "Epoch 2/150\n",
            " - 20s - loss: 1.2851 - acc: 0.5429 - val_loss: 1.0474 - val_acc: 0.6298\n",
            "Epoch 3/150\n",
            " - 20s - loss: 1.1839 - acc: 0.5791 - val_loss: 1.0374 - val_acc: 0.6379\n",
            "Epoch 4/150\n",
            " - 20s - loss: 1.1372 - acc: 0.5986 - val_loss: 0.9960 - val_acc: 0.6499\n",
            "Epoch 5/150\n",
            " - 20s - loss: 1.1023 - acc: 0.6095 - val_loss: 0.9949 - val_acc: 0.6428\n",
            "Epoch 6/150\n",
            " - 20s - loss: 1.0673 - acc: 0.6256 - val_loss: 1.0803 - val_acc: 0.6175\n",
            "Epoch 7/150\n",
            " - 20s - loss: 1.0490 - acc: 0.6286 - val_loss: 0.8740 - val_acc: 0.6940\n",
            "Epoch 8/150\n",
            " - 20s - loss: 1.0229 - acc: 0.6390 - val_loss: 1.0676 - val_acc: 0.6198\n",
            "Epoch 9/150\n",
            " - 20s - loss: 1.0046 - acc: 0.6468 - val_loss: 0.8642 - val_acc: 0.6979\n",
            "Epoch 10/150\n",
            " - 20s - loss: 0.9929 - acc: 0.6505 - val_loss: 1.0498 - val_acc: 0.6488\n",
            "Epoch 11/150\n",
            " - 20s - loss: 0.9748 - acc: 0.6585 - val_loss: 0.9519 - val_acc: 0.6741\n",
            "Epoch 12/150\n",
            " - 20s - loss: 0.9599 - acc: 0.6665 - val_loss: 0.8081 - val_acc: 0.7202\n",
            "Epoch 13/150\n",
            " - 20s - loss: 0.9543 - acc: 0.6660 - val_loss: 0.8270 - val_acc: 0.7111\n",
            "Epoch 14/150\n",
            " - 20s - loss: 0.9365 - acc: 0.6706 - val_loss: 1.0005 - val_acc: 0.6541\n",
            "Epoch 15/150\n",
            " - 20s - loss: 0.9294 - acc: 0.6739 - val_loss: 0.8198 - val_acc: 0.7135\n",
            "Epoch 16/150\n",
            " - 20s - loss: 0.9198 - acc: 0.6806 - val_loss: 0.8670 - val_acc: 0.6930\n",
            "Epoch 17/150\n",
            " - 20s - loss: 0.9140 - acc: 0.6806 - val_loss: 0.7712 - val_acc: 0.7301\n",
            "Epoch 18/150\n",
            " - 20s - loss: 0.9093 - acc: 0.6819 - val_loss: 0.9182 - val_acc: 0.6787\n",
            "Epoch 19/150\n",
            " - 20s - loss: 0.9042 - acc: 0.6861 - val_loss: 0.7442 - val_acc: 0.7402\n",
            "Epoch 20/150\n",
            " - 20s - loss: 0.8970 - acc: 0.6861 - val_loss: 0.7545 - val_acc: 0.7320\n",
            "Epoch 21/150\n",
            " - 20s - loss: 0.8858 - acc: 0.6936 - val_loss: 0.7922 - val_acc: 0.7236\n",
            "Epoch 22/150\n",
            " - 20s - loss: 0.8836 - acc: 0.6921 - val_loss: 0.9696 - val_acc: 0.6617\n",
            "Epoch 23/150\n",
            " - 20s - loss: 0.8759 - acc: 0.6932 - val_loss: 0.7925 - val_acc: 0.7260\n",
            "Epoch 24/150\n",
            " - 20s - loss: 0.8732 - acc: 0.6962 - val_loss: 0.7491 - val_acc: 0.7442\n",
            "Epoch 25/150\n",
            " - 20s - loss: 0.8668 - acc: 0.6991 - val_loss: 0.7357 - val_acc: 0.7469\n",
            "Epoch 26/150\n",
            " - 20s - loss: 0.8587 - acc: 0.7046 - val_loss: 0.7104 - val_acc: 0.7533\n",
            "Epoch 27/150\n",
            " - 20s - loss: 0.8618 - acc: 0.6993 - val_loss: 0.7553 - val_acc: 0.7403\n",
            "Epoch 28/150\n",
            " - 20s - loss: 0.8476 - acc: 0.7025 - val_loss: 0.7185 - val_acc: 0.7518\n",
            "Epoch 29/150\n",
            " - 20s - loss: 0.8457 - acc: 0.7030 - val_loss: 0.7114 - val_acc: 0.7536\n",
            "Epoch 30/150\n",
            " - 20s - loss: 0.8426 - acc: 0.7094 - val_loss: 0.7480 - val_acc: 0.7409\n",
            "Epoch 31/150\n",
            " - 20s - loss: 0.8322 - acc: 0.7081 - val_loss: 0.8311 - val_acc: 0.7138\n",
            "Epoch 32/150\n",
            " - 20s - loss: 0.8328 - acc: 0.7117 - val_loss: 0.6817 - val_acc: 0.7649\n",
            "Epoch 33/150\n",
            " - 20s - loss: 0.8365 - acc: 0.7089 - val_loss: 0.7795 - val_acc: 0.7339\n",
            "Epoch 34/150\n",
            " - 20s - loss: 0.8314 - acc: 0.7094 - val_loss: 0.7186 - val_acc: 0.7533\n",
            "Epoch 35/150\n",
            " - 20s - loss: 0.8251 - acc: 0.7149 - val_loss: 0.6864 - val_acc: 0.7632\n",
            "Epoch 36/150\n",
            " - 20s - loss: 0.8237 - acc: 0.7124 - val_loss: 0.7315 - val_acc: 0.7517\n",
            "Epoch 37/150\n",
            " - 20s - loss: 0.8218 - acc: 0.7164 - val_loss: 0.6627 - val_acc: 0.7757\n",
            "Epoch 38/150\n",
            " - 20s - loss: 0.8166 - acc: 0.7150 - val_loss: 0.6499 - val_acc: 0.7784\n",
            "Epoch 39/150\n",
            " - 20s - loss: 0.8187 - acc: 0.7174 - val_loss: 0.8300 - val_acc: 0.7132\n",
            "Epoch 40/150\n",
            " - 20s - loss: 0.8115 - acc: 0.7163 - val_loss: 0.7708 - val_acc: 0.7314\n",
            "Epoch 41/150\n",
            " - 20s - loss: 0.8070 - acc: 0.7185 - val_loss: 0.6498 - val_acc: 0.7823\n",
            "Epoch 42/150\n",
            " - 20s - loss: 0.8079 - acc: 0.7212 - val_loss: 0.7092 - val_acc: 0.7540\n",
            "Epoch 43/150\n",
            " - 20s - loss: 0.8071 - acc: 0.7186 - val_loss: 0.6414 - val_acc: 0.7817\n",
            "Epoch 44/150\n",
            " - 20s - loss: 0.7984 - acc: 0.7233 - val_loss: 0.6426 - val_acc: 0.7772\n",
            "Epoch 45/150\n",
            " - 20s - loss: 0.7962 - acc: 0.7235 - val_loss: 0.6911 - val_acc: 0.7632\n",
            "Epoch 46/150\n",
            " - 20s - loss: 0.7959 - acc: 0.7258 - val_loss: 0.8214 - val_acc: 0.7094\n",
            "Epoch 47/150\n",
            " - 20s - loss: 0.7904 - acc: 0.7239 - val_loss: 0.6981 - val_acc: 0.7571\n",
            "Epoch 48/150\n",
            " - 20s - loss: 0.7895 - acc: 0.7253 - val_loss: 0.6648 - val_acc: 0.7712\n",
            "Epoch 49/150\n",
            " - 20s - loss: 0.7860 - acc: 0.7270 - val_loss: 0.6912 - val_acc: 0.7622\n",
            "Epoch 50/150\n",
            " - 20s - loss: 0.7902 - acc: 0.7258 - val_loss: 0.6622 - val_acc: 0.7695\n",
            "Epoch 51/150\n",
            " - 20s - loss: 0.7838 - acc: 0.7282 - val_loss: 0.6822 - val_acc: 0.7631\n",
            "Epoch 52/150\n",
            " - 20s - loss: 0.7867 - acc: 0.7266 - val_loss: 0.6807 - val_acc: 0.7634\n",
            "Epoch 53/150\n",
            " - 20s - loss: 0.7737 - acc: 0.7320 - val_loss: 0.7130 - val_acc: 0.7606\n",
            "Epoch 54/150\n",
            " - 20s - loss: 0.7756 - acc: 0.7315 - val_loss: 0.6653 - val_acc: 0.7675\n",
            "Epoch 55/150\n",
            " - 20s - loss: 0.7730 - acc: 0.7305 - val_loss: 0.7199 - val_acc: 0.7590\n",
            "Epoch 56/150\n",
            " - 20s - loss: 0.7724 - acc: 0.7348 - val_loss: 0.7246 - val_acc: 0.7560\n",
            "Epoch 57/150\n",
            " - 20s - loss: 0.7713 - acc: 0.7309 - val_loss: 0.6628 - val_acc: 0.7762\n",
            "Epoch 58/150\n",
            " - 20s - loss: 0.7655 - acc: 0.7341 - val_loss: 0.7222 - val_acc: 0.7494\n",
            "Epoch 59/150\n",
            " - 20s - loss: 0.7707 - acc: 0.7334 - val_loss: 0.6256 - val_acc: 0.7831\n",
            "Epoch 60/150\n",
            " - 20s - loss: 0.7689 - acc: 0.7318 - val_loss: 0.6851 - val_acc: 0.7694\n",
            "Epoch 61/150\n",
            " - 20s - loss: 0.7625 - acc: 0.7367 - val_loss: 0.6509 - val_acc: 0.7743\n",
            "Epoch 62/150\n",
            " - 20s - loss: 0.7672 - acc: 0.7331 - val_loss: 0.6659 - val_acc: 0.7738\n",
            "Epoch 63/150\n",
            " - 20s - loss: 0.7637 - acc: 0.7328 - val_loss: 0.6473 - val_acc: 0.7767\n",
            "Epoch 64/150\n",
            " - 20s - loss: 0.7616 - acc: 0.7343 - val_loss: 0.6614 - val_acc: 0.7735\n",
            "Epoch 65/150\n",
            " - 21s - loss: 0.7538 - acc: 0.7383 - val_loss: 0.6190 - val_acc: 0.7895\n",
            "Epoch 66/150\n",
            " - 20s - loss: 0.7581 - acc: 0.7351 - val_loss: 0.6185 - val_acc: 0.7874\n",
            "Epoch 67/150\n",
            " - 21s - loss: 0.7593 - acc: 0.7359 - val_loss: 0.6303 - val_acc: 0.7884\n",
            "Epoch 68/150\n",
            " - 20s - loss: 0.7490 - acc: 0.7408 - val_loss: 0.6609 - val_acc: 0.7754\n",
            "Epoch 69/150\n",
            " - 20s - loss: 0.7559 - acc: 0.7358 - val_loss: 0.6537 - val_acc: 0.7776\n",
            "Epoch 70/150\n",
            " - 20s - loss: 0.7544 - acc: 0.7370 - val_loss: 0.7420 - val_acc: 0.7541\n",
            "Epoch 71/150\n",
            " - 20s - loss: 0.7463 - acc: 0.7406 - val_loss: 0.6274 - val_acc: 0.7869\n",
            "Epoch 72/150\n",
            " - 20s - loss: 0.7510 - acc: 0.7377 - val_loss: 0.7417 - val_acc: 0.7515\n",
            "Epoch 73/150\n",
            " - 20s - loss: 0.7441 - acc: 0.7404 - val_loss: 0.6891 - val_acc: 0.7661\n",
            "Epoch 74/150\n",
            " - 20s - loss: 0.7436 - acc: 0.7417 - val_loss: 0.7060 - val_acc: 0.7611\n",
            "Epoch 75/150\n",
            " - 20s - loss: 0.7389 - acc: 0.7459 - val_loss: 0.6589 - val_acc: 0.7741\n",
            "Epoch 76/150\n",
            " - 20s - loss: 0.7401 - acc: 0.7416 - val_loss: 0.6354 - val_acc: 0.7826\n",
            "Epoch 77/150\n",
            " - 20s - loss: 0.7411 - acc: 0.7430 - val_loss: 0.6668 - val_acc: 0.7709\n",
            "Epoch 78/150\n",
            " - 20s - loss: 0.7411 - acc: 0.7436 - val_loss: 0.6030 - val_acc: 0.7965\n",
            "Epoch 79/150\n",
            " - 20s - loss: 0.7407 - acc: 0.7419 - val_loss: 0.7027 - val_acc: 0.7611\n",
            "Epoch 80/150\n",
            " - 20s - loss: 0.7393 - acc: 0.7438 - val_loss: 0.6429 - val_acc: 0.7788\n",
            "Epoch 81/150\n",
            " - 20s - loss: 0.7394 - acc: 0.7441 - val_loss: 0.6515 - val_acc: 0.7815\n",
            "Epoch 82/150\n",
            " - 20s - loss: 0.7394 - acc: 0.7451 - val_loss: 0.6065 - val_acc: 0.7926\n",
            "Epoch 83/150\n",
            " - 20s - loss: 0.7300 - acc: 0.7454 - val_loss: 0.6602 - val_acc: 0.7789\n",
            "Epoch 84/150\n",
            " - 20s - loss: 0.7300 - acc: 0.7452 - val_loss: 0.6823 - val_acc: 0.7695\n",
            "Epoch 85/150\n",
            " - 20s - loss: 0.7323 - acc: 0.7442 - val_loss: 0.5955 - val_acc: 0.7964\n",
            "Epoch 86/150\n",
            " - 20s - loss: 0.7315 - acc: 0.7451 - val_loss: 0.6025 - val_acc: 0.7955\n",
            "Epoch 87/150\n",
            " - 20s - loss: 0.7319 - acc: 0.7451 - val_loss: 0.6356 - val_acc: 0.7869\n",
            "Epoch 88/150\n",
            " - 20s - loss: 0.7282 - acc: 0.7460 - val_loss: 0.6084 - val_acc: 0.7907\n",
            "Epoch 89/150\n",
            " - 20s - loss: 0.7273 - acc: 0.7465 - val_loss: 0.6198 - val_acc: 0.7911\n",
            "Epoch 90/150\n",
            " - 20s - loss: 0.7292 - acc: 0.7450 - val_loss: 0.6264 - val_acc: 0.7882\n",
            "Epoch 91/150\n",
            " - 20s - loss: 0.7274 - acc: 0.7476 - val_loss: 0.6874 - val_acc: 0.7713\n",
            "Epoch 92/150\n",
            " - 20s - loss: 0.7302 - acc: 0.7482 - val_loss: 0.6092 - val_acc: 0.7914\n",
            "Epoch 93/150\n",
            " - 20s - loss: 0.7203 - acc: 0.7467 - val_loss: 0.6027 - val_acc: 0.7965\n",
            "Epoch 94/150\n",
            " - 20s - loss: 0.7277 - acc: 0.7483 - val_loss: 0.6226 - val_acc: 0.7892\n",
            "Epoch 95/150\n",
            " - 20s - loss: 0.7277 - acc: 0.7468 - val_loss: 0.6454 - val_acc: 0.7811\n",
            "Epoch 96/150\n",
            " - 20s - loss: 0.7236 - acc: 0.7482 - val_loss: 0.6303 - val_acc: 0.7867\n",
            "Epoch 97/150\n",
            " - 20s - loss: 0.7211 - acc: 0.7482 - val_loss: 0.6609 - val_acc: 0.7748\n",
            "Epoch 98/150\n",
            " - 20s - loss: 0.7254 - acc: 0.7495 - val_loss: 0.6005 - val_acc: 0.7938\n",
            "Epoch 99/150\n",
            " - 20s - loss: 0.7049 - acc: 0.7541 - val_loss: 0.6154 - val_acc: 0.7946\n",
            "Epoch 100/150\n",
            " - 20s - loss: 0.7228 - acc: 0.7523 - val_loss: 0.6110 - val_acc: 0.7952\n",
            "Epoch 101/150\n",
            " - 20s - loss: 0.7132 - acc: 0.7513 - val_loss: 0.5966 - val_acc: 0.7993\n",
            "Epoch 102/150\n",
            " - 20s - loss: 0.7106 - acc: 0.7507 - val_loss: 0.5852 - val_acc: 0.8015\n",
            "Epoch 103/150\n",
            " - 20s - loss: 0.7016 - acc: 0.7564 - val_loss: 0.5958 - val_acc: 0.7976\n",
            "Epoch 104/150\n",
            " - 20s - loss: 0.7097 - acc: 0.7523 - val_loss: 0.6337 - val_acc: 0.7855\n",
            "Epoch 105/150\n",
            " - 20s - loss: 0.7131 - acc: 0.7517 - val_loss: 0.6176 - val_acc: 0.7885\n",
            "Epoch 106/150\n",
            " - 21s - loss: 0.7096 - acc: 0.7540 - val_loss: 0.6007 - val_acc: 0.7926\n",
            "Epoch 107/150\n",
            " - 20s - loss: 0.7091 - acc: 0.7540 - val_loss: 0.6079 - val_acc: 0.7933\n",
            "Epoch 108/150\n",
            " - 20s - loss: 0.7118 - acc: 0.7527 - val_loss: 0.6351 - val_acc: 0.7822\n",
            "Epoch 109/150\n",
            " - 20s - loss: 0.7147 - acc: 0.7531 - val_loss: 0.6072 - val_acc: 0.7967\n",
            "Epoch 110/150\n",
            " - 20s - loss: 0.7146 - acc: 0.7507 - val_loss: 0.6296 - val_acc: 0.7920\n",
            "Epoch 111/150\n",
            " - 20s - loss: 0.7076 - acc: 0.7526 - val_loss: 0.5982 - val_acc: 0.7968\n",
            "Epoch 112/150\n",
            " - 20s - loss: 0.7005 - acc: 0.7547 - val_loss: 0.5931 - val_acc: 0.7997\n",
            "Epoch 113/150\n",
            " - 20s - loss: 0.7108 - acc: 0.7537 - val_loss: 0.5742 - val_acc: 0.8020\n",
            "Epoch 114/150\n",
            "Epoch 115/150\n",
            " - 20s - loss: 0.7062 - acc: 0.7517 - val_loss: 0.5883 - val_acc: 0.7992\n",
            "Epoch 116/150\n",
            " - 20s - loss: 0.7012 - acc: 0.7556 - val_loss: 0.6089 - val_acc: 0.7937\n",
            "Epoch 117/150\n",
            " - 20s - loss: 0.7032 - acc: 0.7568 - val_loss: 0.5824 - val_acc: 0.8005\n",
            "Epoch 118/150\n",
            " - 20s - loss: 0.6971 - acc: 0.7569 - val_loss: 0.5754 - val_acc: 0.8058\n",
            "Epoch 119/150\n",
            " - 20s - loss: 0.7008 - acc: 0.7558 - val_loss: 0.5996 - val_acc: 0.7975\n",
            "Epoch 120/150\n",
            " - 20s - loss: 0.7038 - acc: 0.7547 - val_loss: 0.6567 - val_acc: 0.7775\n",
            "Epoch 121/150\n",
            " - 20s - loss: 0.7006 - acc: 0.7566 - val_loss: 0.5845 - val_acc: 0.7999\n",
            "Epoch 122/150\n",
            " - 20s - loss: 0.6972 - acc: 0.7600 - val_loss: 0.5857 - val_acc: 0.8008\n",
            "Epoch 123/150\n",
            " - 20s - loss: 0.6997 - acc: 0.7569 - val_loss: 0.6224 - val_acc: 0.7933\n",
            "Epoch 124/150\n",
            " - 20s - loss: 0.6995 - acc: 0.7556 - val_loss: 0.6110 - val_acc: 0.7940\n",
            "Epoch 125/150\n",
            " - 20s - loss: 0.7027 - acc: 0.7559 - val_loss: 0.5702 - val_acc: 0.8093\n",
            "Epoch 126/150\n",
            " - 20s - loss: 0.6950 - acc: 0.7600 - val_loss: 0.5876 - val_acc: 0.8054\n",
            "Epoch 127/150\n",
            " - 20s - loss: 0.6919 - acc: 0.7592 - val_loss: 0.5682 - val_acc: 0.8064\n",
            "Epoch 128/150\n",
            " - 20s - loss: 0.6950 - acc: 0.7579 - val_loss: 0.6000 - val_acc: 0.7974\n",
            "Epoch 129/150\n",
            " - 20s - loss: 0.6956 - acc: 0.7591 - val_loss: 0.6183 - val_acc: 0.7893\n",
            "Epoch 130/150\n",
            " - 20s - loss: 0.6944 - acc: 0.7571 - val_loss: 0.5870 - val_acc: 0.8037\n",
            "Epoch 131/150\n",
            " - 20s - loss: 0.6904 - acc: 0.7607 - val_loss: 0.6450 - val_acc: 0.7824\n",
            "Epoch 132/150\n",
            " - 20s - loss: 0.6884 - acc: 0.7609 - val_loss: 0.6513 - val_acc: 0.7794\n",
            "Epoch 133/150\n",
            " - 20s - loss: 0.6985 - acc: 0.7560 - val_loss: 0.5999 - val_acc: 0.8022\n",
            "Epoch 134/150\n",
            " - 20s - loss: 0.6966 - acc: 0.7604 - val_loss: 0.6079 - val_acc: 0.7941\n",
            "Epoch 135/150\n",
            " - 20s - loss: 0.6889 - acc: 0.7605 - val_loss: 0.5697 - val_acc: 0.8069\n",
            "Epoch 136/150\n",
            " - 20s - loss: 0.6872 - acc: 0.7621 - val_loss: 0.5826 - val_acc: 0.8013\n",
            "Epoch 137/150\n",
            " - 20s - loss: 0.6846 - acc: 0.7631 - val_loss: 0.5703 - val_acc: 0.8062\n",
            "Epoch 138/150\n",
            " - 20s - loss: 0.6888 - acc: 0.7621 - val_loss: 0.6087 - val_acc: 0.7962\n",
            "Epoch 139/150\n",
            " - 20s - loss: 0.6865 - acc: 0.7620 - val_loss: 0.6078 - val_acc: 0.7932\n",
            "Epoch 140/150\n",
            " - 20s - loss: 0.6934 - acc: 0.7585 - val_loss: 0.5754 - val_acc: 0.8053\n",
            "Epoch 141/150\n",
            " - 20s - loss: 0.6843 - acc: 0.7629 - val_loss: 0.5665 - val_acc: 0.8093\n",
            "Epoch 142/150\n",
            " - 20s - loss: 0.6816 - acc: 0.7652 - val_loss: 0.5901 - val_acc: 0.8041\n",
            "Epoch 143/150\n",
            " - 20s - loss: 0.6896 - acc: 0.7603 - val_loss: 0.5946 - val_acc: 0.8049\n",
            "Epoch 144/150\n",
            " - 20s - loss: 0.6804 - acc: 0.7645 - val_loss: 0.6229 - val_acc: 0.7887\n",
            "Epoch 145/150\n",
            " - 20s - loss: 0.6863 - acc: 0.7636 - val_loss: 0.5975 - val_acc: 0.7994\n",
            "Epoch 146/150\n",
            " - 20s - loss: 0.6793 - acc: 0.7641 - val_loss: 0.6175 - val_acc: 0.7933\n",
            "Epoch 147/150\n",
            " - 20s - loss: 0.6782 - acc: 0.7623 - val_loss: 0.5757 - val_acc: 0.8074\n",
            "Epoch 148/150\n",
            " - 20s - loss: 0.6809 - acc: 0.7643 - val_loss: 0.6141 - val_acc: 0.7958\n",
            "Epoch 149/150\n",
            " - 20s - loss: 0.6793 - acc: 0.7640 - val_loss: 0.5689 - val_acc: 0.8079\n",
            "Epoch 150/150\n",
            " - 20s - loss: 0.6850 - acc: 0.7595 - val_loss: 0.6553 - val_acc: 0.7800\n"
          ],
          "name": "stdout"
        }
      ]
    },
    {
      "cell_type": "code",
      "metadata": {
        "colab_type": "code",
        "deletable": true,
        "editable": true,
        "id": "QS7B3PumyL_g",
        "outputId": "40849a9d-f523-4ce2-bd81-a053f06afbbc",
        "colab": {
          "base_uri": "https://localhost:8080/",
          "height": 295
        }
      },
      "source": [
        "plotLosses(history)"
      ],
      "execution_count": 26,
      "outputs": [
        {
          "output_type": "display_data",
          "data": {
            "image/png": "[encoded data removed]",
            "text/plain": [
              "<Figure size 432x288 with 1 Axes>"
            ]
          },
          "metadata": {
            "tags": []
          }
        }
      ]
    },
    {
      "cell_type": "markdown",
      "metadata": {
        "colab_type": "text",
        "deletable": true,
        "editable": true,
        "id": "xLxNdTGWyL_i"
      },
      "source": [
        "#### Evaluating the CNN (with dropout, batch normalization and data augmentation)"
      ]
    },
    {
      "cell_type": "code",
      "metadata": {
        "colab_type": "code",
        "deletable": true,
        "editable": true,
        "id": "BlifLM3ryL_m",
        "colab": {}
      },
      "source": [
        "score = model.evaluate(X_test, y_test, batch_size=128, verbose=0)"
      ],
      "execution_count": 0,
      "outputs": []
    },
    {
      "cell_type": "code",
      "metadata": {
        "colab_type": "code",
        "deletable": true,
        "editable": true,
        "id": "F6bO1Ww3yL_q",
        "outputId": "fa728a37-ae8f-4236-ac3d-99ed0a1cf30d",
        "colab": {
          "base_uri": "https://localhost:8080/",
          "height": 0
        }
      },
      "source": [
        "print(model.metrics_names)\n",
        "print(score)"
      ],
      "execution_count": 28,
      "outputs": [
        {
          "output_type": "stream",
          "text": [
            "['loss', 'acc']\n",
            "[0.6678087455749512, 0.7688]\n"
          ],
          "name": "stdout"
        }
      ]
    },
    {
      "cell_type": "markdown",
      "metadata": {
        "colab_type": "text",
        "deletable": true,
        "editable": true,
        "id": "nW-PXjD_yL_v"
      },
      "source": [
        "The learning process without image augmentation: <br>\n",
        "\n",
        "<img src=\"no_augmentation.png\" width=\"500\">\n",
        "\n",
        "<br>\n",
        "\n",
        "\n",
        "<br>\n",
        "\n",
        "The learning process with image augmentation: <br>\n",
        "\n",
        "<img src=\"with_augmentation.png\" width=\"500\">\n",
        "\n",
        "<br>\n"
      ]
    },
    {
      "cell_type": "code",
      "metadata": {
        "colab_type": "code",
        "id": "yL5tRQ2__uzZ",
        "colab": {}
      },
      "source": [
        ""
      ],
      "execution_count": 0,
      "outputs": []
    },
    {
      "cell_type": "code",
      "metadata": {
        "colab_type": "code",
        "id": "yJJqh05hI6zz",
        "colab": {}
      },
      "source": [
        ""
      ],
      "execution_count": 0,
      "outputs": []
    },
    {
      "cell_type": "code",
      "metadata": {
        "colab_type": "code",
        "id": "jcL45d7tJOVz",
        "colab": {}
      },
      "source": [
        ""
      ],
      "execution_count": 0,
      "outputs": []
    }
  ]
}